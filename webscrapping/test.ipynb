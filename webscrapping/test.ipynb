{
 "cells": [
  {
   "cell_type": "code",
   "execution_count": 6,
   "metadata": {},
   "outputs": [],
   "source": [
    "import logging\n",
    "\n",
    "# Create and configure logger to log to a file. Also the default level is set to warning\n",
    "logging.basicConfig(filename=\"intro.log\")\n",
    "logger=logging.getLogger()\n",
    "\n",
    "# To test the logger\n",
    "logger.info(\"This is an info message\")\n"
   ]
  },
  {
   "cell_type": "code",
   "execution_count": 11,
   "metadata": {},
   "outputs": [],
   "source": [
    "import logging\n",
    "\n",
    "logging.basicConfig(filename=\"intro1.log\",level=logging.DEBUG,format='%(asctime)')\n",
    "\n",
    "logger=logging.getLogger()\n",
    "\n",
    "logger.info(\"This is an info message\")"
   ]
  },
  {
   "cell_type": "code",
   "execution_count": null,
   "metadata": {},
   "outputs": [],
   "source": [
    "import hashlib\n",
    "\n",
    "# Your credentials\n",
    "username = \"naveen\"\n",
    "password = \"naveen3830\"\n",
    "\n",
    "# Generate hash\n",
    "hashed_password = hashlib.sha256(password.encode()).hexdigest()\n",
    "\n",
    "print(f\"Hash for password '{password}':\")\n",
    "print(hashed_password)"
   ]
  },
  {
   "cell_type": "code",
   "execution_count": null,
   "metadata": {},
   "outputs": [],
   "source": [
    "import requests\n",
    "from bs4 import BeautifulSoup\n",
    "\n",
    "def extract_anchor_tags(url):\n",
    "    try:\n",
    "        # Send HTTP request\n",
    "        response = requests.get(url)\n",
    "        # Check if the request was successful\n",
    "        if response.status_code == 200:\n",
    "            # Parse HTML content using BeautifulSoup\n",
    "            soup = BeautifulSoup(response.text, 'lxml')\n",
    "            \n",
    "            # Find all anchor tags\n",
    "            anchor_tags = soup.find_all('a')\n",
    "            \n",
    "            # Extract and print URLs\n",
    "            for tag in anchor_tags:\n",
    "                url = tag.get('href')\n",
    "                if url:\n",
    "                    print(url)\n",
    "        else:\n",
    "            print(\"Failed to retrieve the webpage. Status code: \", response.status_code)\n",
    "    \n",
    "    except Exception as e:\n",
    "        print(\"An error occurred: \", str(e))\n",
    "\n",
    "url = \"https://www.efax.com/\"\n",
    "extract_anchor_tags(url)"
   ]
  },
  {
   "cell_type": "code",
   "execution_count": null,
   "metadata": {},
   "outputs": [],
   "source": [
    "from selenium import webdriver\n",
    "from bs4 import BeautifulSoup\n",
    "\n",
    "# Initialize WebDriver\n",
    "driver = webdriver.Chrome()  # Ensure you have ChromeDriver installed\n",
    "\n",
    "try:\n",
    "    driver.get(\"https://www.efax.com/how-to/fax-your-senator-or-representative\")\n",
    "    html_content = driver.page_source\n",
    "    \n",
    "    # Parse with BeautifulSoup\n",
    "    soup = BeautifulSoup(html_content, 'lxml')\n",
    "    anchor_tags = soup.find_all('a')\n",
    "    \n",
    "    for tag in anchor_tags:\n",
    "        href = tag.get('href')\n",
    "        if href:\n",
    "            print(href)\n",
    "finally:\n",
    "    driver.quit()\n"
   ]
  },
  {
   "cell_type": "code",
   "execution_count": 8,
   "metadata": {},
   "outputs": [],
   "source": [
    "url=\"https://www.splashtop.com/\"\n",
    "response=requests.get(url)"
   ]
  },
  {
   "cell_type": "code",
   "execution_count": null,
   "metadata": {},
   "outputs": [],
   "source": [
    "soup = BeautifulSoup(response.text)\n",
    "soup"
   ]
  },
  {
   "cell_type": "code",
   "execution_count": null,
   "metadata": {},
   "outputs": [],
   "source": [
    "import requests\n",
    "from bs4 import BeautifulSoup\n",
    "\n",
    "def find_word_occurrences(url, word):\n",
    "    \"\"\"\n",
    "    Find occurrences of a particular word on a webpage.\n",
    "\n",
    "    Args:\n",
    "        url (str): URL of the webpage.\n",
    "        word (str): Word to search for.\n",
    "\n",
    "    Returns:\n",
    "        int: Number of occurrences of the word.\n",
    "    \"\"\"\n",
    "    # Send an HTTP GET request to the URL\n",
    "    response = requests.get(url)\n",
    "\n",
    "    # Check if the request was successful\n",
    "    if response.status_code != 200:\n",
    "        print(f\"Failed to retrieve the webpage. Status code: {response.status_code}\")\n",
    "        return None\n",
    "\n",
    "    # Parse the HTML content using BeautifulSoup\n",
    "    soup = BeautifulSoup(response.content, 'html.parser')\n",
    "\n",
    "    # Remove all script and style elements\n",
    "    for script in soup([\"script\", \"style\"]):\n",
    "        script.decompose()\n",
    "\n",
    "    # Get the text from the HTML content\n",
    "    text = soup.get_text()\n",
    "\n",
    "    # Break the text into lines and remove leading and trailing whitespace\n",
    "    lines = (line.strip() for line in text.splitlines())\n",
    "\n",
    "    # Break multi-headlines into a line each\n",
    "    chunks = (phrase.strip() for line in lines for phrase in line.split(\"  \"))\n",
    "\n",
    "    # Remove special characters and convert to lowercase\n",
    "    text = ' '.join(chunk for chunk in chunks if chunk).lower()\n",
    "\n",
    "    # Count the occurrences of the word\n",
    "    word = word.lower()\n",
    "    occurrences = text.count(word)\n",
    "\n",
    "    return occurrences\n",
    "\n",
    "# Example usage\n",
    "url = \"https://www.efax.com/blog/fax-multiple-pages\"\n",
    "word = \"fax cover sheet\"\n",
    "occurrences = find_word_occurrences(url, word)\n",
    "\n",
    "if occurrences is not None:\n",
    "    print(f\"The word '{word}' occurs {occurrences} times on the webpage.\")"
   ]
  },
  {
   "cell_type": "code",
   "execution_count": null,
   "metadata": {},
   "outputs": [],
   "source": []
  }
 ],
 "metadata": {
  "kernelspec": {
   "display_name": "Python 3",
   "language": "python",
   "name": "python3"
  },
  "language_info": {
   "codemirror_mode": {
    "name": "ipython",
    "version": 3
   },
   "file_extension": ".py",
   "mimetype": "text/x-python",
   "name": "python",
   "nbconvert_exporter": "python",
   "pygments_lexer": "ipython3",
   "version": "3.12.6"
  }
 },
 "nbformat": 4,
 "nbformat_minor": 2
}
